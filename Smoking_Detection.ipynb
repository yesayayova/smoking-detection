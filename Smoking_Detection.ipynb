{
  "nbformat": 4,
  "nbformat_minor": 0,
  "metadata": {
    "colab": {
      "name": "Smoking Detection.ipynb",
      "provenance": [],
      "collapsed_sections": [],
      "toc_visible": true,
      "mount_file_id": "1BtZZI4lfPHfm-TW6TD6THaqapPfnTQi7",
      "authorship_tag": "ABX9TyPUqJ6E1LsZlQxJhRwIptB6",
      "include_colab_link": true
    },
    "kernelspec": {
      "name": "python3",
      "display_name": "Python 3"
    },
    "language_info": {
      "name": "python"
    },
    "accelerator": "GPU"
  },
  "cells": [
    {
      "cell_type": "markdown",
      "metadata": {
        "id": "view-in-github",
        "colab_type": "text"
      },
      "source": [
        "<a href=\"https://colab.research.google.com/github/yesayayova/smoking-detection/blob/main/Smoking_Detection.ipynb\" target=\"_parent\"><img src=\"https://colab.research.google.com/assets/colab-badge.svg\" alt=\"Open In Colab\"/></a>"
      ]
    },
    {
      "cell_type": "markdown",
      "metadata": {
        "id": "YSzfwrrTmGO4"
      },
      "source": [
        "# Smoking Detection\n",
        "\n",
        "This project contain program to detect the peoples are smoking in the room. The stage of this program as folows:\n",
        "\n",
        "<ul>\n",
        "  <li>Detecting person with YOLOv4 Darknet by <a href\"https://github.com/AlexeyAB/darknet\">AlexeyAB</a></li>\n",
        "  <li>Take the detected person and classify using trained model</li>\n",
        "  <li>If there are a smoking person, then captures the frame for the documentation</li>  "
      ]
    },
    {
      "cell_type": "code",
      "metadata": {
        "id": "9jPQ8xRjmFFU"
      },
      "source": [
        "import cv2\n",
        "import numpy as np"
      ],
      "execution_count": 1,
      "outputs": []
    },
    {
      "cell_type": "markdown",
      "metadata": {
        "id": "rhIfvPX4mg3d"
      },
      "source": [
        "## Download dan Install YOLOv4 Darknet"
      ]
    },
    {
      "cell_type": "code",
      "metadata": {
        "id": "cr3p2dqkmUTq"
      },
      "source": [
        "#clone yolov4\n",
        "!git clone https://github.com/AlexeyAB/darknet"
      ],
      "execution_count": null,
      "outputs": []
    },
    {
      "cell_type": "code",
      "metadata": {
        "id": "hhi6tLpwm1ss"
      },
      "source": [
        "#setting makefile\n",
        "%cd darknet\n",
        "!sed -i 's/OPENCV=0/OPENCV=1/' Makefile\n",
        "!sed -i 's/GPU=0/GPU=1/' Makefile\n",
        "!sed -i 's/CUDNN=0/CUDNN=1/' Makefile\n",
        "!sed -i 's/CUDNN_HALF=0/CUDNN_HALF=1/' Makefile\n",
        "!sed -i 's/LIBSO=0/LIBSO=1/' Makefile"
      ],
      "execution_count": null,
      "outputs": []
    },
    {
      "cell_type": "code",
      "metadata": {
        "id": "ixC_RaFqm49Z"
      },
      "source": [
        "#activiting makefile\n",
        "!make"
      ],
      "execution_count": null,
      "outputs": []
    },
    {
      "cell_type": "code",
      "metadata": {
        "id": "r7GxUqbpntH7"
      },
      "source": [
        "# Download yolov4-csp weight\n",
        "!wget --load-cookies /tmp/cookies.txt \"https://docs.google.com/uc?export=download&confirm=$(wget --quiet --save-cookies /tmp/cookies.txt --keep-session-cookies --no-check-certificate 'https://docs.google.com/uc?export=download&id=1V3vsIaxAlGWvK4Aar9bAiK5U0QFttKwq' -O- | sed -rn 's/.*confirm=([0-9A-Za-z_]+).*/\\1\\n/p')&id=1V3vsIaxAlGWvK4Aar9bAiK5U0QFttKwq\" -O yolov4-csp.weights && rm -rf /tmp/cookies.txt"
      ],
      "execution_count": null,
      "outputs": []
    },
    {
      "cell_type": "markdown",
      "metadata": {
        "id": "bxgioLJ5oMo6"
      },
      "source": [
        "## Object Detection with YOLOv4"
      ]
    },
    {
      "cell_type": "code",
      "metadata": {
        "id": "FHlS3xnooQvI"
      },
      "source": [
        "# import darknet functions to perform object detections\n",
        "from darknet import *\n",
        "# load in our YOLOv4 architecture network\n",
        "network, class_names, class_colors = load_network(\"cfg/yolov4-csp.cfg\", \"cfg/coco.data\", \"yolov4-csp.weights\")\n",
        "width = network_width(network)\n",
        "height = network_height(network)\n",
        "\n",
        "# darknet helper function to run detection on image\n",
        "def darknet_helper(img, width, height):\n",
        "  darknet_image = make_image(width, height, 3)\n",
        "  img_rgb = cv2.cvtColor(img, cv2.COLOR_BGR2RGB)\n",
        "  img_resized = cv2.resize(img_rgb, (width, height),\n",
        "                              interpolation=cv2.INTER_LINEAR)\n",
        "\n",
        "  # get image ratios to convert bounding boxes to proper size\n",
        "  img_height, img_width, _ = img.shape\n",
        "  width_ratio = img_width/width\n",
        "  height_ratio = img_height/height\n",
        "\n",
        "  # run model on darknet style image to get detections\n",
        "  copy_image_from_bytes(darknet_image, img_resized.tobytes())\n",
        "  detections = detect_image(network, class_names, darknet_image)\n",
        "  free_image(darknet_image)\n",
        "  return detections, width_ratio, height_ratio"
      ],
      "execution_count": null,
      "outputs": []
    },
    {
      "cell_type": "markdown",
      "metadata": {
        "id": "KrN53tdxoiiA"
      },
      "source": [
        "## Read and save the video result"
      ]
    },
    {
      "cell_type": "code",
      "metadata": {
        "id": "eMK-kqZhob-2"
      },
      "source": [
        "from tensorflow.keras.models import load_model\n",
        "\n",
        "cap = cv2.VideoCapture(\"/content/Drive/MyDrive/example.mp4\")\n",
        "model = load_model(\"/content/drive/MyDrive/model_inceptionv3.h5\")\n",
        "\n",
        "frame_width = int(cap.get(3))\n",
        "frame_height = int(cap.get(4))\n",
        "\n",
        "out = cv2.VideoWriter('/content/drive/MyDrive/niko-smoking-2.avi',cv2.VideoWriter_fourcc('M','J','P','G'), 10, (frame_width,frame_height))\n",
        "\n",
        "# Check if camera opened successfully\n",
        "if (cap.isOpened()== False): \n",
        "  print(\"Error opening video stream or file\")\n",
        "\n",
        "id_frame = 0\n",
        "\n",
        "# Read until video is completed\n",
        "while (cap.isOpened()):\n",
        "  # Capture frame-by-frame\n",
        "  ret, frame = cap.read()\n",
        "  if ret == True:\n",
        "\n",
        "    # Display the resulting frame\n",
        "    detections, width_ratio, height_ratio = darknet_helper(frame, width, height)\n",
        "\n",
        "    for label, confidence, bbox in detections:\n",
        "      if label=='person':\n",
        "        left, top, right, bottom = bbox2points(bbox)\n",
        "        left, top, right, bottom = int(left * width_ratio), int(top * height_ratio), int(right * width_ratio), int(bottom * height_ratio)\n",
        "        image_croped = frame[top:bottom, left:right]\n",
        "        classes= [0]\n",
        "\n",
        "        try:\n",
        "          image_croped = cv2.resize(image_croped,(150,150))\n",
        "          image_croped = image_croped/255.0\n",
        "          x = np.expand_dims(image_croped, axis=0)\n",
        "\n",
        "          images = np.vstack([x])\n",
        "          classes = model.predict(images)\n",
        "        except:\n",
        "          continue\n",
        "\n",
        "        if classes[0] > 0.7:\n",
        "          cv2.rectangle(frame, (left, top), (right, bottom), (0,0,255), 2)\n",
        "          cv2.putText(frame, \"{} [{:.2f}]\".format(\"smoking\", float(classes[0])),\n",
        "                            (left, top - 5), cv2.FONT_HERSHEY_SIMPLEX, 0.5,\n",
        "                            (0, 0, 255), 2)\n",
        "          \n",
        "          #buat nyimpen foto kalo kedetect setiap frame kelipatan 50\n",
        "          if id_frame % 50 == 0 :\n",
        "            cv2.imread(\"content/drive/MyDrive/dataset/detect{}\".format(id_frame))\n",
        "\n",
        "        else:\n",
        "          cv2.rectangle(frame, (left, top), (right, bottom), (0,255,0), 2)\n",
        "          cv2.putText(frame, \"{} [{:.2f}]\".format(\"smoking\", float(classes[0])),\n",
        "                            (left, top - 5), cv2.FONT_HERSHEY_SIMPLEX, 0.5,\n",
        "                            (0, 255, 0), 2)\n",
        "          \n",
        "    out.write(frame)\n",
        "    print(\"writed frame {}\".format(id_frame))\n",
        "    id_frame += 1\n",
        "    # Press Q on keyboard to  exit\n",
        "    if cv2.waitKey(25) & 0xFF == ord('q'):\n",
        "      break\n",
        "\n",
        "  # Break the loop\n",
        "  else: \n",
        "    break\n",
        "\n",
        "# When everything done, release the video capture object\n",
        "cap.release()\n",
        "out.release()\n",
        "# Closes all the frames\n",
        "cv2.destroyAllWindows()"
      ],
      "execution_count": null,
      "outputs": []
    },
    {
      "cell_type": "code",
      "metadata": {
        "id": "cqbUFPMuVnHz"
      },
      "source": [
        ""
      ],
      "execution_count": null,
      "outputs": []
    }
  ]
}